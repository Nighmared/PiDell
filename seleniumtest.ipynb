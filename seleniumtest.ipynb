{
 "cells": [
  {
   "cell_type": "markdown",
   "metadata": {},
   "source": [
    "First setup the basic selenium driver"
   ]
  },
  {
   "cell_type": "code",
   "execution_count": 149,
   "metadata": {},
   "outputs": [],
   "source": [
    "from selenium import webdriver\n",
    "from selenium.webdriver.chrome.service import Service\n",
    "from selenium.webdriver.chrome.options import Options\n",
    "from selenium.webdriver.common.by import By\n",
    "from selenium.webdriver.support.ui import WebDriverWait\n",
    "from selenium.webdriver.support.expected_conditions import presence_of_element_located, element_to_be_clickable\n",
    "\n",
    "IDRAC_IP = \"192.168.1.999\"\n",
    "IDRAC_USER = \"username\"\n",
    "IDRAC_PW = \"password\"\n",
    "\n",
    "service = Service(executable_path=\"chromium.chromedriver\")\n",
    "service.start()\n",
    "options = Options()\n",
    "options.add_argument('ignore-certificate-errors') # because sketchy idrac stuff\n",
    "\n",
    "driver = webdriver.Chrome(service=service, options=options)"
   ]
  },
  {
   "cell_type": "markdown",
   "metadata": {},
   "source": [
    "First open the web interface and wait until the last element of the login UI has loaded which is the Domain Selector option showing \"This iDRAC\""
   ]
  },
  {
   "cell_type": "code",
   "execution_count": 150,
   "metadata": {},
   "outputs": [
    {
     "data": {
      "text/plain": [
       "<selenium.webdriver.remote.webelement.WebElement (session=\"c0bf4db32d896d20a09bb94be40274bd\", element=\"5c5998d3-337b-4f59-ac91-0ba3fed5c94c\")>"
      ]
     },
     "execution_count": 150,
     "metadata": {},
     "output_type": "execute_result"
    }
   ],
   "source": [
    "driver.get(f\"http://{IDRAC_IP}\")\n",
    "\n",
    "WebDriverWait(driver,20).until(presence_of_element_located((By.XPATH,\"//option[text()='This iDRAC']\")))\n"
   ]
  },
  {
   "cell_type": "markdown",
   "metadata": {},
   "source": [
    "Now find the inputs for username and password as well as the submit button, fill them out and submit the login"
   ]
  },
  {
   "cell_type": "code",
   "execution_count": 151,
   "metadata": {},
   "outputs": [],
   "source": [
    "\n",
    "\n",
    "user_input_field = driver.find_element(by=By.XPATH,value=\"//input[@id='user']\")\n",
    "pw_input_field = driver.find_element(by=By.ID,value=\"password\")\n",
    "submit_button = driver.find_element(by=By.ID, value=\"btnOK\")\n",
    "user_input_field.send_keys(IDRAC_USER)\n",
    "pw_input_field.send_keys(IDRAC_PW)\n",
    "submit_button.click()\n"
   ]
  },
  {
   "cell_type": "markdown",
   "metadata": {},
   "source": [
    "Here because in the idrac interface everything is in weird frames we'll have to start switching around between those, apart from that this selects the \"Power\" tab in the top navbar"
   ]
  },
  {
   "cell_type": "code",
   "execution_count": 152,
   "metadata": {},
   "outputs": [],
   "source": [
    "navbar_frame = driver.find_element(by=By.XPATH,value=\"//frame[@src='snb.html']\")\n",
    "driver.switch_to.frame(navbar_frame)\n",
    "\n",
    "navbar_power = driver.find_element(by=By.XPATH,value=\"//tbody/tr/td/a[text()='Power']\")\n",
    "navbar_power.click()"
   ]
  },
  {
   "cell_type": "markdown",
   "metadata": {},
   "source": [
    "Now again switch frames.. (first to actually find the desired frame have to go back to normal view with the `default_content()`)"
   ]
  },
  {
   "cell_type": "code",
   "execution_count": 153,
   "metadata": {},
   "outputs": [],
   "source": [
    "driver.switch_to.default_content()\n",
    "power_control_frame = WebDriverWait(driver,20).until(presence_of_element_located((By.XPATH,\"//frame[@src='sysSummaryData.html']\")))\n",
    "driver.switch_to.frame(power_control_frame)"
   ]
  },
  {
   "cell_type": "markdown",
   "metadata": {},
   "source": [
    "And finally in the power menu select the radio for graceful shutdown, click the apply button and accept the alert that opens"
   ]
  },
  {
   "cell_type": "code",
   "execution_count": 154,
   "metadata": {},
   "outputs": [
    {
     "name": "stdout",
     "output_type": "stream",
     "text": [
      "found button\n",
      "clickable\n"
     ]
    }
   ],
   "source": [
    "graceful_shutdown_select = WebDriverWait(driver,10).until(presence_of_element_located((By.XPATH,\"//input[@value='shutdown']\")))\n",
    "print(\"found button\")\n",
    "WebDriverWait(driver,10).until(element_to_be_clickable(graceful_shutdown_select))\n",
    "print(\"clickable\")\n",
    "graceful_shutdown_select.click()\n",
    "submit_power_action_button = driver.find_element(by=By.XPATH,value=\"//div[@class='button_clear']/a[@class='container_button']\")\n",
    "submit_power_action_button.click()\n",
    "\n",
    "driver.switch_to.alert.accept()"
   ]
  },
  {
   "cell_type": "markdown",
   "metadata": {},
   "source": [
    "finally quit the browser"
   ]
  },
  {
   "cell_type": "code",
   "execution_count": 155,
   "metadata": {},
   "outputs": [],
   "source": [
    "driver.quit()"
   ]
  }
 ],
 "metadata": {
  "interpreter": {
   "hash": "e7370f93d1d0cde622a1f8e1c04877d8463912d04d973331ad4851f04de6915a"
  },
  "kernelspec": {
   "display_name": "Python 3.10.4 64-bit",
   "language": "python",
   "name": "python3"
  },
  "language_info": {
   "codemirror_mode": {
    "name": "ipython",
    "version": 3
   },
   "file_extension": ".py",
   "mimetype": "text/x-python",
   "name": "python",
   "nbconvert_exporter": "python",
   "pygments_lexer": "ipython3",
   "version": "3.10.4"
  },
  "orig_nbformat": 4
 },
 "nbformat": 4,
 "nbformat_minor": 2
}
